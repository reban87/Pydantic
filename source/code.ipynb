{
 "cells": [
  {
   "cell_type": "code",
   "execution_count": null,
   "metadata": {},
   "outputs": [],
   "source": [
    "import pydantic\n",
    "print(pydantic.__version__)"
   ]
  },
  {
   "cell_type": "markdown",
   "metadata": {},
   "source": [
    "Data Validation without Pydantic"
   ]
  },
  {
   "cell_type": "code",
   "execution_count": null,
   "metadata": {},
   "outputs": [],
   "source": [
    "class User:\n",
    "    def __init__(self, id: int, name: \"Rebanta\"):\n",
    "        if not isinstance(id, int):\n",
    "            raise TypeError(f'id must be an integer, got {type(id).__name__}')\n",
    "        \n",
    "        if not isinstance(name, str):\n",
    "            raise TypeError(f'name must be a string, got {type(name).__name__}')\n",
    "\n",
    "        self.id = id\n",
    "        self.name = name\n",
    "\n",
    "try:\n",
    "    user = User(id='123', name= \"John Doe\" )\n",
    "except TypeError as e:\n",
    "    print(e)"
   ]
  },
  {
   "cell_type": "markdown",
   "metadata": {},
   "source": [
    "With Pydantic"
   ]
  },
  {
   "cell_type": "code",
   "execution_count": null,
   "metadata": {},
   "outputs": [],
   "source": [
    "from pydantic import BaseModel\n",
    "\n",
    "class User(BaseModel):\n",
    "    id: int\n",
    "    name: str\n",
    "\n",
    "user = User(id=\"123\", name= \"John Doe\" )\n",
    "print(user)"
   ]
  },
  {
   "cell_type": "code",
   "execution_count": null,
   "metadata": {},
   "outputs": [],
   "source": [
    "print(user.model_fields_set)\n",
    "print(user.model_fields_set)"
   ]
  },
  {
   "cell_type": "code",
   "execution_count": null,
   "metadata": {},
   "outputs": [],
   "source": [
    "print(user.model_dump())\n",
    "print(user.model_dump_json())\n",
    "print(user.model_json_schema())"
   ]
  },
  {
   "cell_type": "markdown",
   "metadata": {},
   "source": [
    "Nested Models"
   ]
  },
  {
   "cell_type": "code",
   "execution_count": null,
   "metadata": {},
   "outputs": [],
   "source": [
    "from typing import List, Optional\n",
    "from pydantic import BaseModel\n",
    "\n",
    "class Food(BaseModel):\n",
    "    name: str\n",
    "    price: float\n",
    "    ingredients: Optional[List[str]] = None\n",
    "\n",
    "class Restaurant(BaseModel):\n",
    "    name: str\n",
    "    location: str\n",
    "    foods: List[Food]\n",
    "\n",
    "restaurant_instance = Restaurant(\n",
    "    name = \"Easy Food\",\n",
    "    location = \"123, Kathmandu, Nepal\",\n",
    "    foods = [\n",
    "        {\"name\": \"pizza\", \"price\": \"12.50\", \"ingredients\": [\"cheese\", \"potato_sauce\"]},\n",
    "        {\"name\": \"momo\", \"price\": \"15\", \"ingredients\": [\"meat\", \"flour\"]}\n",
    "    ]\n",
    ")\n",
    "\n",
    "print(restaurant_instance)\n",
    "print(restaurant_instance.model_dump())"
   ]
  },
  {
   "cell_type": "code",
   "execution_count": null,
   "metadata": {},
   "outputs": [],
   "source": [
    "from typing import List\n",
    "from pydantic import BaseModel, EmailStr, PositiveInt, conlist, Field, HttpUrl\n",
    "\n",
    "class Address(BaseModel):\n",
    "    street: str\n",
    "    city: str\n",
    "    state: str\n",
    "    zip_code: str\n",
    "\n",
    "class Employee(BaseModel):\n",
    "    name: str\n",
    "    position: str\n",
    "    email: EmailStr\n",
    "    \n",
    "class Owner(BaseModel):\n",
    "    name: str\n",
    "    email: EmailStr\n",
    "    \n",
    "class Restaurant(BaseModel):\n",
    "    name: str = Field(..., pattern=r\"^[a-zA-Z0-9-' ]+$\")\n",
    "    owner: Owner\n",
    "    address: Address\n",
    "    employees: conlist(Employee, min_length=2)\n",
    "    number_of_seats: PositiveInt\n",
    "    delivery: bool\n",
    "    website: HttpUrl\n",
    "\n",
    "# Creating an instance of the Restaurant class\n",
    "restaurant_instance = Restaurant(\n",
    "    name=\"Tasty Bites\",\n",
    "    owner={\n",
    "        \"name\": \"John Doe\",\n",
    "        \"email\": \"john.doe@example.com\"\n",
    "    },\n",
    "    address={\n",
    "        \"street\": \"123, Flavor Street\",\n",
    "        \"city\": \"Tastytown\",\n",
    "        \"state\": \"TS\",\n",
    "        \"zip_code\": \"12345\",\n",
    "    },\n",
    "    employees=[\n",
    "        {\n",
    "            \"name\": \"Jane Doe\",\n",
    "            \"position\": \"Chef\",\n",
    "            \"email\": \"jane.doe@example.com\"\n",
    "        },\n",
    "        {\n",
    "            \"name\": \"Mike Roe\",\n",
    "            \"position\": \"Waiter\",\n",
    "            \"email\": \"mike.roe@example.com\"\n",
    "        }\n",
    "    ],\n",
    "    number_of_seats=50,\n",
    "    delivery=True,\n",
    "    website=\"http://tastybites.com\"\n",
    ")\n",
    "\n",
    "# Printing the instance\n",
    "print(restaurant_instance)"
   ]
  }
 ],
 "metadata": {
  "kernelspec": {
   "display_name": "venv",
   "language": "python",
   "name": "python3"
  },
  "language_info": {
   "codemirror_mode": {
    "name": "ipython",
    "version": 3
   },
   "file_extension": ".py",
   "mimetype": "text/x-python",
   "name": "python",
   "nbconvert_exporter": "python",
   "pygments_lexer": "ipython3",
   "version": "3.10.12"
  }
 },
 "nbformat": 4,
 "nbformat_minor": 2
}
